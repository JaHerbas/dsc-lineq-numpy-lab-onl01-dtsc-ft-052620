{
 "cells": [
  {
   "cell_type": "markdown",
   "metadata": {},
   "source": [
    "# Solving Systems of Linear Equations with NumPy - Lab\n",
    "\n",
    "## Introduction \n",
    "\n",
    "Now you've gathered all the required skills needed to solve systems of linear equations. You saw why there was a need to calculate inverses of matrices, followed by matrix multiplication to figure out the values of unknown variables. \n",
    "\n",
    "The exercises in this lab present some problems that can be converted into a system of linear equations. \n",
    "\n",
    "## Objectives\n",
    "You will be able to:\n",
    "\n",
    "- Use matrix algebra and NumPy to solve a system of linear equations given a real-life example \n",
    "- Use NumPy's linear algebra solver to solve for systems of linear equations\n",
    "\n",
    "## Exercise 1\n",
    "\n",
    "A coffee shop is having a sale on coffee and tea. \n",
    "\n",
    "On day 1, 29 bags of coffee and 41 bags of tea were sold, for a total of 490 dollars.\n",
    "\n",
    "On day 2, they sold 23 bags of coffee and 41 bags of tea, for which customers paid a total of 448 dollars.  \n",
    "\n",
    "How much does each bag cost?"
   ]
  },
  {
   "cell_type": "code",
   "execution_count": 9,
   "metadata": {
    "ExecuteTime": {
     "end_time": "2020-07-30T11:19:18.491110Z",
     "start_time": "2020-07-30T11:19:18.486072Z"
    }
   },
   "outputs": [
    {
     "name": "stdout",
     "output_type": "stream",
     "text": [
      "[7. 7.]\n",
      "A bag of coffee costs 7.000000000000001, and a bad of tea 6.999999999999999\n"
     ]
    }
   ],
   "source": [
    "# Create and solve the relevant system of equations\n",
    "\n",
    "# Day 1\n",
    "import numpy as np\n",
    "\n",
    "A = np.array([[29,41],[23,41]])\n",
    "B = np.array([490,448])\n",
    "\n",
    "X = np.linalg.solve(A,B)\n",
    "np.round(X)\n",
    "print(X)\n",
    "print('A bag of coffee costs {}, and a bad of tea {}'.format(X[0],X[1]))"
   ]
  },
  {
   "cell_type": "code",
   "execution_count": 6,
   "metadata": {
    "ExecuteTime": {
     "end_time": "2020-07-30T11:17:57.094913Z",
     "start_time": "2020-07-30T11:17:57.089257Z"
    }
   },
   "outputs": [
    {
     "name": "stdout",
     "output_type": "stream",
     "text": [
      "[490. 448.]\n",
      "[490 448]\n"
     ]
    }
   ],
   "source": [
    "# Just to double check the results\n",
    "# According to the theory:\n",
    "\n",
    "print(A.dot(X))\n",
    "print(B)"
   ]
  },
  {
   "cell_type": "code",
   "execution_count": 7,
   "metadata": {
    "ExecuteTime": {
     "end_time": "2020-07-30T11:18:25.016683Z",
     "start_time": "2020-07-30T11:18:25.014639Z"
    }
   },
   "outputs": [],
   "source": [
    "# Describe your result\n",
    "# Results are explained above as part of the print, each is worth 7 dollars, and results were double checked"
   ]
  },
  {
   "cell_type": "markdown",
   "metadata": {},
   "source": [
    "This was the fast way, alternatively it can be done using np.matrix.\n",
    "See below:"
   ]
  },
  {
   "cell_type": "code",
   "execution_count": 17,
   "metadata": {
    "ExecuteTime": {
     "end_time": "2020-07-30T11:22:21.301659Z",
     "start_time": "2020-07-30T11:22:21.296905Z"
    }
   },
   "outputs": [
    {
     "data": {
      "text/plain": [
       "matrix([[7.],\n",
       "        [7.]])"
      ]
     },
     "metadata": {},
     "output_type": "display_data"
    }
   ],
   "source": [
    "A = np.matrix([[29,41],[23,41]])\n",
    "B = np.matrix([490,448])\n",
    "\n",
    "A_inv = np.linalg.inv(A)\n",
    "B = B.T\n",
    "X = A_inv.dot(B)\n",
    "display(X)"
   ]
  },
  {
   "cell_type": "markdown",
   "metadata": {},
   "source": [
    "Same results!!!"
   ]
  },
  {
   "cell_type": "markdown",
   "metadata": {},
   "source": [
    "## Exercise 2\n",
    "\n",
    "The cost of admission to a popular music concert was 162 dollars for 12 children and 3 adults. \n",
    "\n",
    "The admission was 122 dollars for 8 children and 3 adults in the same music concert. \n",
    "\n",
    "How much was the admission for each child and adult?"
   ]
  },
  {
   "cell_type": "code",
   "execution_count": 22,
   "metadata": {
    "ExecuteTime": {
     "end_time": "2020-07-30T11:25:53.595759Z",
     "start_time": "2020-07-30T11:25:53.590573Z"
    }
   },
   "outputs": [
    {
     "name": "stdout",
     "output_type": "stream",
     "text": [
      "The price for the admissions was [[10.]] per child, and [[14.]] per adult\n"
     ]
    }
   ],
   "source": [
    "# Create and solve the relevant system of equations\n",
    "\n",
    "A = np.matrix([[12,3],[8,3]])\n",
    "B = np.matrix([162,122])\n",
    "\n",
    "A_inv = np.linalg.inv(A)\n",
    "B = B.T\n",
    "\n",
    "X = A_inv.dot(B)\n",
    "X\n",
    "\n",
    "print('The price for the admissions was {} per child, and {} per adult'.format(X[0], X[1]))"
   ]
  },
  {
   "cell_type": "code",
   "execution_count": 23,
   "metadata": {
    "ExecuteTime": {
     "end_time": "2020-07-30T11:26:14.439844Z",
     "start_time": "2020-07-30T11:26:14.437699Z"
    }
   },
   "outputs": [],
   "source": [
    "# Describe your result\n",
    "# Results were describe above as part of the workflow..."
   ]
  },
  {
   "cell_type": "markdown",
   "metadata": {},
   "source": [
    "## Exercise 3\n",
    "\n",
    "You want to make a soup containing tomatoes, carrots, and onions.\n",
    "\n",
    "Suppose you don't know the exact mix to put in, but you know there are 7 individual pieces of vegetables, and there are twice as many tomatoes as onions, and that the 7 pieces of vegetables cost 5.25 USD in total. \n",
    "You also know that onions cost 0.5 USD each, tomatoes cost 0.75 USD and carrots cost 1.25 USD each.\n",
    "\n",
    "Create a system of equations to find out exactly how many of each of the vegetables are in your soup."
   ]
  },
  {
   "cell_type": "code",
   "execution_count": 26,
   "metadata": {
    "ExecuteTime": {
     "end_time": "2020-07-30T12:05:24.067204Z",
     "start_time": "2020-07-30T12:05:24.061495Z"
    }
   },
   "outputs": [
    {
     "name": "stdout",
     "output_type": "stream",
     "text": [
      "[[1.75]\n",
      " [1.75]\n",
      " [3.5 ]]\n",
      "There are [[1.75]] tomatoes, [[1.75]] carrots, and [[3.5]] onions\n"
     ]
    }
   ],
   "source": [
    "# Create and solve the relevant system of equations\n",
    "# t + c + o = 7\n",
    "# 2t = o ==> 2t + 0c - 1o = 0 (twice as many tomatoes as onions, means 2 tomatoes per onion)\n",
    "# 0.75t + 1.25c + 0.5o = 5.25\n",
    "\n",
    "A = np.matrix([[1,1,1],[2,0,-1],[0.75,1.25,0.5]])\n",
    "B = np.matrix([7,0,5.25])\n",
    "\n",
    "A_inv = np.linalg.inv(A)\n",
    "\n",
    "X = A_inv.dot(B.T)\n",
    "print(X)\n",
    "\n",
    "print('There are {} tomatoes, {} carrots, and {} onions'.format(X[0], X[1], X[2]))"
   ]
  },
  {
   "cell_type": "markdown",
   "metadata": {},
   "source": [
    "Describe your result\n",
    "\n",
    "The results given on the lab are wrong. The reason is because twice as an object A compared to B means mathematically: 2A = B and not the other way around as this was define. \n",
    "\n",
    "\n",
    "In order to obtain those number you will need twice the number of onions per tomato, and that would be 2o = 1t, and therefore that equation would be: t + 0c - 2o = 0, doing it that way you will get different amounts. See below:"
   ]
  },
  {
   "cell_type": "code",
   "execution_count": 28,
   "metadata": {
    "ExecuteTime": {
     "end_time": "2020-07-30T12:12:17.357429Z",
     "start_time": "2020-07-30T12:12:17.351710Z"
    }
   },
   "outputs": [
    {
     "name": "stdout",
     "output_type": "stream",
     "text": [
      "[[4.]\n",
      " [1.]\n",
      " [2.]]\n",
      "There are [[4.]] tomatoes, [[1.]] carrots, and [[2.]] onions in the recipe\n"
     ]
    }
   ],
   "source": [
    "A = np.matrix([[1,1,1], [1, 0, -2], [0.75,1.25,0.5]])\n",
    "B = np.matrix([7,0,5.25])\n",
    "\n",
    "A_inv = np.linalg.inv(A)\n",
    "\n",
    "X = A_inv.dot(B.T)\n",
    "print(X)\n",
    "\n",
    "# the order of my X was [t, c, o], therefore:\n",
    "\n",
    "print('There are {} tomatoes, {} carrots, and {} onions in the recipe'.format(X[0],X[1],X[2]))"
   ]
  },
  {
   "cell_type": "markdown",
   "metadata": {},
   "source": [
    "## Exercise 4\n",
    "\n",
    "A landlord owns 3 properties: a 1-bedroom, a 2-bedroom, and a 3-bedroom house. \n",
    "\n",
    "The total rent he receives is 1240 USD. \n",
    "\n",
    "He needs to make some repairs, where those repairs cost 10% of the 1-bedroom house’s rent. The 2-bedroom repairs cost 20% of the 2-bedroom rental price and 30% of the 3-bedroom house's rent for its repairs.  The total repair bill for all three houses was 276 USD. \n",
    "\n",
    "The 3-bedroom house's rent is twice the 1-bedroom house’s rent. \n",
    "\n",
    "How much is the individual rent for three houses?"
   ]
  },
  {
   "cell_type": "code",
   "execution_count": 31,
   "metadata": {
    "ExecuteTime": {
     "end_time": "2020-07-30T12:50:19.961724Z",
     "start_time": "2020-07-30T12:50:19.956168Z"
    }
   },
   "outputs": [
    {
     "name": "stdout",
     "output_type": "stream",
     "text": [
      "The 1 bedroom rent is [[280.]], the 2 bedroom [[400.]], and the 3 bedroom [[560.]] Dollars\n"
     ]
    }
   ],
   "source": [
    "# Create and solve the relevant system of equations\n",
    "\n",
    "A = np.matrix([[1,1,1],[0.1,0.2,0.3],[2,0,-1]])\n",
    "B = np.matrix([1240,276,0])\n",
    "\n",
    "A_inv = np.linalg.inv(A)\n",
    "\n",
    "X = A_inv.dot(B.T)\n",
    "print('The 1 bedroom rent is {}, the 2 bedroom {}, and the 3 bedroom {} Dollars'.format(X[0],X[1],X[2]))"
   ]
  },
  {
   "cell_type": "code",
   "execution_count": 32,
   "metadata": {
    "ExecuteTime": {
     "end_time": "2020-07-30T12:50:35.923145Z",
     "start_time": "2020-07-30T12:50:35.920871Z"
    }
   },
   "outputs": [],
   "source": [
    "# Describe your result\n",
    "# Price description is above"
   ]
  },
  {
   "cell_type": "markdown",
   "metadata": {},
   "source": [
    "## Summary\n",
    "In this lab, you learned how to use NumPy to solve linear equations by taking inverses and matrix multiplication and also using numpy's `solve()` function. You'll now take these skills forward and see how you can define a simple regression problem using linear algebra and solve it with Numpy. "
   ]
  }
 ],
 "metadata": {
  "kernelspec": {
   "display_name": "learn-env",
   "language": "python",
   "name": "learn-env"
  },
  "language_info": {
   "codemirror_mode": {
    "name": "ipython",
    "version": 3
   },
   "file_extension": ".py",
   "mimetype": "text/x-python",
   "name": "python",
   "nbconvert_exporter": "python",
   "pygments_lexer": "ipython3",
   "version": "3.6.9"
  },
  "toc": {
   "base_numbering": 1,
   "nav_menu": {},
   "number_sections": true,
   "sideBar": true,
   "skip_h1_title": false,
   "title_cell": "Table of Contents",
   "title_sidebar": "Contents",
   "toc_cell": false,
   "toc_position": {},
   "toc_section_display": true,
   "toc_window_display": false
  },
  "varInspector": {
   "cols": {
    "lenName": 16,
    "lenType": 16,
    "lenVar": 40
   },
   "kernels_config": {
    "python": {
     "delete_cmd_postfix": "",
     "delete_cmd_prefix": "del ",
     "library": "var_list.py",
     "varRefreshCmd": "print(var_dic_list())"
    },
    "r": {
     "delete_cmd_postfix": ") ",
     "delete_cmd_prefix": "rm(",
     "library": "var_list.r",
     "varRefreshCmd": "cat(var_dic_list()) "
    }
   },
   "types_to_exclude": [
    "module",
    "function",
    "builtin_function_or_method",
    "instance",
    "_Feature"
   ],
   "window_display": false
  }
 },
 "nbformat": 4,
 "nbformat_minor": 2
}
